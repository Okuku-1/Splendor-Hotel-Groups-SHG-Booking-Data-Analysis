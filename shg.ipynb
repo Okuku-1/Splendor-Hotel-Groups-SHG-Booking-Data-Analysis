{
 "cells": [
  {
   "cell_type": "markdown",
   "metadata": {},
   "source": [
    "### Project Brief: Analyzing Booking Data for Splendor Hotel Groups (SHG)\n",
    "Greetings from Splendor Hotel Groups (SHG). As a recently recruited Business Intelligence\n",
    "Analyst and Data Analyst, you will be essential to our efforts to solve the puzzles buried in our\n",
    "booking data. Renowned hospitality company SHG aims to improve visitor experiences and\n",
    "streamline corporate processes by utilizing data-driven insights. Your task is to thoroughly\n",
    "examine one of our best resorts' past booking data in order to identify trends, comprehend\n",
    "consumer behavior, and offer useful suggestions for tactical decision-making.\n",
    "\n",
    "### Project Overview:\n",
    "Your task involves a thorough analysis of a comprehensive dataset, featuring intricate details of\n",
    "bookings, guest demographics, distribution channels, and financial metrics. By applying your\n",
    "analytical prowess, we aim to extract meaningful insights that will not only inform operational\n",
    "improvements but also contribute to the overall success of SHG in delivering unparalleled\n",
    "hospitality.\n",
    "\n",
    "#### Data cleaning process"
   ]
  },
  {
   "cell_type": "code",
   "execution_count": 1,
   "metadata": {},
   "outputs": [],
   "source": [
    "#installing required packages\n",
    "import pandas as pd \n",
    "import numpy as np \n",
    "import matplotlib.pyplot as plt \n",
    "%matplotlib inline\n"
   ]
  },
  {
   "cell_type": "code",
   "execution_count": 2,
   "metadata": {},
   "outputs": [
    {
     "data": {
      "text/html": [
       "<div>\n",
       "<style scoped>\n",
       "    .dataframe tbody tr th:only-of-type {\n",
       "        vertical-align: middle;\n",
       "    }\n",
       "\n",
       "    .dataframe tbody tr th {\n",
       "        vertical-align: top;\n",
       "    }\n",
       "\n",
       "    .dataframe thead th {\n",
       "        text-align: right;\n",
       "    }\n",
       "</style>\n",
       "<table border=\"1\" class=\"dataframe\">\n",
       "  <thead>\n",
       "    <tr style=\"text-align: right;\">\n",
       "      <th></th>\n",
       "      <th>Booking ID</th>\n",
       "      <th>Hotel</th>\n",
       "      <th>Booking Date</th>\n",
       "      <th>Arrival Date</th>\n",
       "      <th>Lead Time</th>\n",
       "      <th>Nights</th>\n",
       "      <th>Guests</th>\n",
       "      <th>Distribution Channel</th>\n",
       "      <th>Customer Type</th>\n",
       "      <th>Country</th>\n",
       "      <th>Deposit Type</th>\n",
       "      <th>Avg Daily Rate</th>\n",
       "      <th>Status</th>\n",
       "      <th>Status Update</th>\n",
       "      <th>Cancelled (0/1)</th>\n",
       "      <th>Revenue</th>\n",
       "      <th>Revenue Loss</th>\n",
       "    </tr>\n",
       "  </thead>\n",
       "  <tbody>\n",
       "    <tr>\n",
       "      <th>0</th>\n",
       "      <td>1</td>\n",
       "      <td>Resort</td>\n",
       "      <td>2014-07-24</td>\n",
       "      <td>2015-07-01</td>\n",
       "      <td>342</td>\n",
       "      <td>0</td>\n",
       "      <td>2</td>\n",
       "      <td>Direct</td>\n",
       "      <td>Transient</td>\n",
       "      <td>Portugal</td>\n",
       "      <td>No Deposit</td>\n",
       "      <td>0.0</td>\n",
       "      <td>Check-Out</td>\n",
       "      <td>2015-07-01</td>\n",
       "      <td>0</td>\n",
       "      <td>0.0</td>\n",
       "      <td>0.0</td>\n",
       "    </tr>\n",
       "    <tr>\n",
       "      <th>1</th>\n",
       "      <td>2</td>\n",
       "      <td>Resort</td>\n",
       "      <td>2013-06-24</td>\n",
       "      <td>2015-07-01</td>\n",
       "      <td>737</td>\n",
       "      <td>0</td>\n",
       "      <td>2</td>\n",
       "      <td>Direct</td>\n",
       "      <td>Transient</td>\n",
       "      <td>Portugal</td>\n",
       "      <td>No Deposit</td>\n",
       "      <td>0.0</td>\n",
       "      <td>Check-Out</td>\n",
       "      <td>2015-07-01</td>\n",
       "      <td>0</td>\n",
       "      <td>0.0</td>\n",
       "      <td>0.0</td>\n",
       "    </tr>\n",
       "    <tr>\n",
       "      <th>2</th>\n",
       "      <td>3</td>\n",
       "      <td>Resort</td>\n",
       "      <td>2015-06-24</td>\n",
       "      <td>2015-07-01</td>\n",
       "      <td>7</td>\n",
       "      <td>1</td>\n",
       "      <td>1</td>\n",
       "      <td>Direct</td>\n",
       "      <td>Transient</td>\n",
       "      <td>United Kingdom</td>\n",
       "      <td>No Deposit</td>\n",
       "      <td>75.0</td>\n",
       "      <td>Check-Out</td>\n",
       "      <td>2015-07-02</td>\n",
       "      <td>0</td>\n",
       "      <td>75.0</td>\n",
       "      <td>0.0</td>\n",
       "    </tr>\n",
       "    <tr>\n",
       "      <th>3</th>\n",
       "      <td>4</td>\n",
       "      <td>Resort</td>\n",
       "      <td>2015-06-18</td>\n",
       "      <td>2015-07-01</td>\n",
       "      <td>13</td>\n",
       "      <td>1</td>\n",
       "      <td>1</td>\n",
       "      <td>Corporate</td>\n",
       "      <td>Transient</td>\n",
       "      <td>United Kingdom</td>\n",
       "      <td>No Deposit</td>\n",
       "      <td>75.0</td>\n",
       "      <td>Check-Out</td>\n",
       "      <td>2015-07-02</td>\n",
       "      <td>0</td>\n",
       "      <td>75.0</td>\n",
       "      <td>0.0</td>\n",
       "    </tr>\n",
       "    <tr>\n",
       "      <th>4</th>\n",
       "      <td>5</td>\n",
       "      <td>Resort</td>\n",
       "      <td>2015-06-17</td>\n",
       "      <td>2015-07-01</td>\n",
       "      <td>14</td>\n",
       "      <td>2</td>\n",
       "      <td>2</td>\n",
       "      <td>Online Travel Agent</td>\n",
       "      <td>Transient</td>\n",
       "      <td>United Kingdom</td>\n",
       "      <td>No Deposit</td>\n",
       "      <td>98.0</td>\n",
       "      <td>Check-Out</td>\n",
       "      <td>2015-07-03</td>\n",
       "      <td>0</td>\n",
       "      <td>196.0</td>\n",
       "      <td>0.0</td>\n",
       "    </tr>\n",
       "  </tbody>\n",
       "</table>\n",
       "</div>"
      ],
      "text/plain": [
       "   Booking ID   Hotel Booking Date Arrival Date  Lead Time  Nights  Guests  \\\n",
       "0           1  Resort   2014-07-24   2015-07-01        342       0       2   \n",
       "1           2  Resort   2013-06-24   2015-07-01        737       0       2   \n",
       "2           3  Resort   2015-06-24   2015-07-01          7       1       1   \n",
       "3           4  Resort   2015-06-18   2015-07-01         13       1       1   \n",
       "4           5  Resort   2015-06-17   2015-07-01         14       2       2   \n",
       "\n",
       "  Distribution Channel Customer Type         Country Deposit Type  \\\n",
       "0               Direct     Transient        Portugal   No Deposit   \n",
       "1               Direct     Transient        Portugal   No Deposit   \n",
       "2               Direct     Transient  United Kingdom   No Deposit   \n",
       "3            Corporate     Transient  United Kingdom   No Deposit   \n",
       "4  Online Travel Agent     Transient  United Kingdom   No Deposit   \n",
       "\n",
       "   Avg Daily Rate     Status Status Update  Cancelled (0/1)  Revenue  \\\n",
       "0             0.0  Check-Out    2015-07-01                0      0.0   \n",
       "1             0.0  Check-Out    2015-07-01                0      0.0   \n",
       "2            75.0  Check-Out    2015-07-02                0     75.0   \n",
       "3            75.0  Check-Out    2015-07-02                0     75.0   \n",
       "4            98.0  Check-Out    2015-07-03                0    196.0   \n",
       "\n",
       "   Revenue Loss  \n",
       "0           0.0  \n",
       "1           0.0  \n",
       "2           0.0  \n",
       "3           0.0  \n",
       "4           0.0  "
      ]
     },
     "execution_count": 2,
     "metadata": {},
     "output_type": "execute_result"
    }
   ],
   "source": [
    "shg = pd.read_excel(\"D:\\\\Programming\\\\Datasets\\\\SHG_Booking_Data (1).xlsx\")\n",
    "shg.head()"
   ]
  },
  {
   "cell_type": "code",
   "execution_count": 3,
   "metadata": {},
   "outputs": [
    {
     "data": {
      "text/plain": [
       "(119390, 17)"
      ]
     },
     "execution_count": 3,
     "metadata": {},
     "output_type": "execute_result"
    }
   ],
   "source": [
    "shg.shape"
   ]
  },
  {
   "cell_type": "code",
   "execution_count": 4,
   "metadata": {},
   "outputs": [
    {
     "name": "stdout",
     "output_type": "stream",
     "text": [
      "<class 'pandas.core.frame.DataFrame'>\n",
      "RangeIndex: 119390 entries, 0 to 119389\n",
      "Data columns (total 17 columns):\n",
      " #   Column                Non-Null Count   Dtype         \n",
      "---  ------                --------------   -----         \n",
      " 0   Booking ID            119390 non-null  int64         \n",
      " 1   Hotel                 119390 non-null  object        \n",
      " 2   Booking Date          119390 non-null  datetime64[ns]\n",
      " 3   Arrival Date          119390 non-null  datetime64[ns]\n",
      " 4   Lead Time             119390 non-null  int64         \n",
      " 5   Nights                119390 non-null  int64         \n",
      " 6   Guests                119390 non-null  int64         \n",
      " 7   Distribution Channel  119390 non-null  object        \n",
      " 8   Customer Type         119390 non-null  object        \n",
      " 9   Country               118902 non-null  object        \n",
      " 10  Deposit Type          119390 non-null  object        \n",
      " 11  Avg Daily Rate        119390 non-null  float64       \n",
      " 12  Status                119390 non-null  object        \n",
      " 13  Status Update         119390 non-null  datetime64[ns]\n",
      " 14  Cancelled (0/1)       119390 non-null  int64         \n",
      " 15  Revenue               119390 non-null  float64       \n",
      " 16  Revenue Loss          119390 non-null  float64       \n",
      "dtypes: datetime64[ns](3), float64(3), int64(5), object(6)\n",
      "memory usage: 15.5+ MB\n"
     ]
    }
   ],
   "source": [
    "#data info\n",
    "shg.info()"
   ]
  },
  {
   "cell_type": "markdown",
   "metadata": {},
   "source": [
    "#### Data Structure and Types"
   ]
  },
  {
   "cell_type": "code",
   "execution_count": 5,
   "metadata": {},
   "outputs": [
    {
     "data": {
      "text/plain": [
       "Booking ID                       int64\n",
       "Hotel                           object\n",
       "Booking Date            datetime64[ns]\n",
       "Arrival Date            datetime64[ns]\n",
       "Lead Time                        int64\n",
       "Nights                           int64\n",
       "Guests                           int64\n",
       "Distribution Channel            object\n",
       "Customer Type                   object\n",
       "Country                         object\n",
       "Deposit Type                    object\n",
       "Avg Daily Rate                 float64\n",
       "Status                          object\n",
       "Status Update           datetime64[ns]\n",
       "Cancelled (0/1)                  int64\n",
       "Revenue                        float64\n",
       "Revenue Loss                   float64\n",
       "dtype: object"
      ]
     },
     "execution_count": 5,
     "metadata": {},
     "output_type": "execute_result"
    }
   ],
   "source": [
    "#Data structure and type\n",
    "shg.dtypes"
   ]
  },
  {
   "cell_type": "code",
   "execution_count": 6,
   "metadata": {},
   "outputs": [],
   "source": [
    "#converting Canceleted column from interger to boolen\n",
    "shg[\"Cancelled (0/1)\"] = shg[\"Cancelled (0/1)\"].astype(bool)"
   ]
  },
  {
   "cell_type": "code",
   "execution_count": 7,
   "metadata": {},
   "outputs": [
    {
     "data": {
      "text/plain": [
       "dtype('bool')"
      ]
     },
     "execution_count": 7,
     "metadata": {},
     "output_type": "execute_result"
    }
   ],
   "source": [
    "#checking for changes\n",
    "shg[\"Cancelled (0/1)\"].dtype"
   ]
  },
  {
   "cell_type": "markdown",
   "metadata": {},
   "source": [
    "#### Handling Missing Values "
   ]
  },
  {
   "cell_type": "code",
   "execution_count": 8,
   "metadata": {},
   "outputs": [
    {
     "data": {
      "text/plain": [
       "Booking ID                0\n",
       "Hotel                     0\n",
       "Booking Date              0\n",
       "Arrival Date              0\n",
       "Lead Time                 0\n",
       "Nights                    0\n",
       "Guests                    0\n",
       "Distribution Channel      0\n",
       "Customer Type             0\n",
       "Country                 488\n",
       "Deposit Type              0\n",
       "Avg Daily Rate            0\n",
       "Status                    0\n",
       "Status Update             0\n",
       "Cancelled (0/1)           0\n",
       "Revenue                   0\n",
       "Revenue Loss              0\n",
       "dtype: int64"
      ]
     },
     "execution_count": 8,
     "metadata": {},
     "output_type": "execute_result"
    }
   ],
   "source": [
    "#checking for missing values\n",
    "shg.isna().sum()"
   ]
  },
  {
   "cell_type": "code",
   "execution_count": 9,
   "metadata": {},
   "outputs": [
    {
     "name": "stdout",
     "output_type": "stream",
     "text": [
      "The most common country is Portugal with 48590 occurence\n"
     ]
    }
   ],
   "source": [
    "#checking the most appearing country\n",
    "most_appearing_country = shg[\"Country\"].value_counts().idxmax()\n",
    "country_count = shg[\"Country\"].value_counts().max()\n",
    "\n",
    "print(f\"The most common country is {most_appearing_country} with {country_count} occurence\")"
   ]
  },
  {
   "cell_type": "code",
   "execution_count": 10,
   "metadata": {},
   "outputs": [],
   "source": [
    "shg.fillna(\"Portugal\", inplace=True)\n"
   ]
  },
  {
   "cell_type": "code",
   "execution_count": 11,
   "metadata": {},
   "outputs": [
    {
     "name": "stdout",
     "output_type": "stream",
     "text": [
      "<class 'pandas.core.frame.DataFrame'>\n",
      "RangeIndex: 119390 entries, 0 to 119389\n",
      "Data columns (total 17 columns):\n",
      " #   Column                Non-Null Count   Dtype         \n",
      "---  ------                --------------   -----         \n",
      " 0   Booking ID            119390 non-null  int64         \n",
      " 1   Hotel                 119390 non-null  object        \n",
      " 2   Booking Date          119390 non-null  datetime64[ns]\n",
      " 3   Arrival Date          119390 non-null  datetime64[ns]\n",
      " 4   Lead Time             119390 non-null  int64         \n",
      " 5   Nights                119390 non-null  int64         \n",
      " 6   Guests                119390 non-null  int64         \n",
      " 7   Distribution Channel  119390 non-null  object        \n",
      " 8   Customer Type         119390 non-null  object        \n",
      " 9   Country               119390 non-null  object        \n",
      " 10  Deposit Type          119390 non-null  object        \n",
      " 11  Avg Daily Rate        119390 non-null  float64       \n",
      " 12  Status                119390 non-null  object        \n",
      " 13  Status Update         119390 non-null  datetime64[ns]\n",
      " 14  Cancelled (0/1)       119390 non-null  bool          \n",
      " 15  Revenue               119390 non-null  float64       \n",
      " 16  Revenue Loss          119390 non-null  float64       \n",
      "dtypes: bool(1), datetime64[ns](3), float64(3), int64(4), object(6)\n",
      "memory usage: 14.7+ MB\n"
     ]
    }
   ],
   "source": [
    "shg.info()"
   ]
  },
  {
   "cell_type": "markdown",
   "metadata": {},
   "source": [
    "#### Date Consistency"
   ]
  },
  {
   "cell_type": "code",
   "execution_count": 12,
   "metadata": {},
   "outputs": [
    {
     "name": "stdout",
     "output_type": "stream",
     "text": [
      "Yes, all bookings have Booking Date on or before Arrival Date.\n"
     ]
    }
   ],
   "source": [
    "#check if booking date is before or the same day as arrival date\n",
    "if (shg[\"Booking Date\"] <= shg[\"Arrival Date\"]).all():\n",
    "    print(\"Yes, all bookings have Booking Date on or before Arrival Date.\")\n",
    "else:\n",
    "    print(\"No,  there are bookings with Booking Date after Arrival Date.\")"
   ]
  },
  {
   "cell_type": "code",
   "execution_count": 13,
   "metadata": {},
   "outputs": [
    {
     "name": "stdout",
     "output_type": "stream",
     "text": [
      "Lead Time is accurate for all records.\n"
     ]
    }
   ],
   "source": [
    "#check if lead time is the difference in booking and arrival date for all rows\n",
    "#calculating lead time\n",
    "shg[\"Calc Lead Time\"] = (shg[\"Arrival Date\"] - shg[\"Booking Date\"]).dt.days\n",
    "\n",
    "#confirming if there's inconsistency\n",
    "if (shg[\"Lead Time\"] == shg[\"Calc Lead Time\"]).all():\n",
    "    print(\"Lead Time is accurate for all records.\")\n",
    "else:\n",
    "    print(\"Lead Time discrepancies found.\")\n"
   ]
  },
  {
   "cell_type": "code",
   "execution_count": 14,
   "metadata": {},
   "outputs": [
    {
     "name": "stdout",
     "output_type": "stream",
     "text": [
      "Status update discrepancies found\n"
     ]
    }
   ],
   "source": [
    "#checking if status date is after booking and arrival dates\n",
    "if ((shg[\"Status Update\"] > shg[\"Booking Date\"]) & (shg[\"Status Update\"] > shg[\"Arrival Date\"])).all():\n",
    "    print(\"Status update is accurate for all records\")\n",
    "else:\n",
    "    print(\"Status update discrepancies found\")"
   ]
  },
  {
   "cell_type": "markdown",
   "metadata": {},
   "source": [
    "#### Duplicates"
   ]
  },
  {
   "cell_type": "code",
   "execution_count": 15,
   "metadata": {},
   "outputs": [
    {
     "data": {
      "text/plain": [
       "0"
      ]
     },
     "execution_count": 15,
     "metadata": {},
     "output_type": "execute_result"
    }
   ],
   "source": [
    "#check for duplicate using unique id \n",
    "shg[\"Booking ID\"].duplicated().sum()\n"
   ]
  },
  {
   "cell_type": "markdown",
   "metadata": {},
   "source": [
    "### Outliers and Value Ranges\n",
    "#### Avg Daily Rate\n"
   ]
  },
  {
   "cell_type": "code",
   "execution_count": 16,
   "metadata": {},
   "outputs": [
    {
     "data": {
      "text/plain": [
       "Text(0.5, 1.0, 'Boxplot of Average Daily Rate')"
      ]
     },
     "execution_count": 16,
     "metadata": {},
     "output_type": "execute_result"
    },
    {
     "data": {
      "image/png": "[encoded data removed]",
      "text/plain": [
       "<Figure size 432x288 with 1 Axes>"
      ]
     },
     "metadata": {
      "needs_background": "light"
     },
     "output_type": "display_data"
    }
   ],
   "source": [
    "plt.boxplot(shg[\"Avg Daily Rate\"])\n",
    "plt.title(\"Boxplot of Average Daily Rate\")"
   ]
  },
  {
   "cell_type": "code",
   "execution_count": 17,
   "metadata": {},
   "outputs": [],
   "source": [
    "#transforming the oulier\n",
    "#defining the IQR bounds \n",
    "Q1 = shg[\"Avg Daily Rate\"].quantile(0.25)\n",
    "Q3 = shg[\"Avg Daily Rate\"].quantile(0.75)\n",
    "IQR = Q3 - Q1\n",
    "\n",
    "# Define upper and lower bounds\n",
    "lower_bound = (Q1 - (1.5 * IQR))\n",
    "upper_bound = (Q3 - (1.5 * IQR))\n",
    "\n",
    "#capping outliers\n",
    "shg[\"Avg Daily Rate\"] = np.where(shg[\"Avg Daily Rate\"] > upper_bound, upper_bound, shg[\"Avg Daily Rate\"])\n",
    "shg[\"Avg Daily Rate\"] = np.where(shg[\"Avg Daily Rate\"] < lower_bound, lower_bound, shg[\"Avg Daily Rate\"])\n"
   ]
  },
  {
   "cell_type": "markdown",
   "metadata": {},
   "source": [
    "#### Revenue"
   ]
  },
  {
   "cell_type": "code",
   "execution_count": 18,
   "metadata": {},
   "outputs": [
    {
     "data": {
      "text/plain": [
       "<function matplotlib.pyplot.show(close=None, block=None)>"
      ]
     },
     "execution_count": 18,
     "metadata": {},
     "output_type": "execute_result"
    },
    {
     "data": {
      "image/png": "[encoded data removed]",
      "text/plain": [
       "<Figure size 432x288 with 1 Axes>"
      ]
     },
     "metadata": {
      "needs_background": "light"
     },
     "output_type": "display_data"
    }
   ],
   "source": [
    "#checking for outliers in revenue column\n",
    "plt.boxplot(shg[\"Revenue\"])\n",
    "plt.title(\"Boxplot of Revenue\")\n",
    "plt.show"
   ]
  },
  {
   "cell_type": "code",
   "execution_count": 19,
   "metadata": {},
   "outputs": [],
   "source": [
    "#caping outliers\n",
    "Q1 = shg[\"Revenue\"].quantile(0.25)\n",
    "Q3 = shg[\"Revenue\"].quantile(0.75)\n",
    "IQR = Q3 - Q1\n",
    "\n",
    "lower_bound = (Q1 - (1.5 * IQR))\n",
    "upper_bound = (Q3 + (1.5 * IQR))\n",
    "\n",
    "shg[\"Revenue\"] = np.where(shg[\"Revenue\"] > upper_bound, upper_bound, shg[\"Revenue\"])\n",
    "shg[\"Revenue\"] = np.where(shg[\"Revenue\"] < lower_bound, lower_bound, shg[\"Revenue\"])"
   ]
  },
  {
   "cell_type": "markdown",
   "metadata": {},
   "source": [
    "#### Revenue loss"
   ]
  },
  {
   "cell_type": "code",
   "execution_count": 20,
   "metadata": {},
   "outputs": [
    {
     "data": {
      "image/png": "[encoded data removed]",
      "text/plain": [
       "<Figure size 432x288 with 1 Axes>"
      ]
     },
     "metadata": {
      "needs_background": "light"
     },
     "output_type": "display_data"
    }
   ],
   "source": [
    "# checking outliers in revenue loss column\n",
    "plt.boxplot(shg[\"Revenue Loss\"])\n",
    "plt.title(\"Boxplot of Revenue Loss\")\n",
    "plt.show()"
   ]
  },
  {
   "cell_type": "code",
   "execution_count": 21,
   "metadata": {},
   "outputs": [],
   "source": [
    "#capping the outliers\n",
    "#IQR bound\n",
    "Q1 = shg[\"Revenue Loss\"].quantile(0.25)\n",
    "Q3 = shg[\"Revenue Loss\"].quantile(0.75)\n",
    "IQR = Q3 - Q1\n",
    "\n",
    "#upper bound and lower bound\n",
    "upper_bound = (Q3 - (1.5 * IQR))\n",
    "lower_bound = (Q1 - (1.5 * IQR))\n",
    "\n",
    "#capping outliers\n",
    "shg[\"Revenue Loss\"] = np.where(shg[\"Revenue Loss\"] > upper_bound, upper_bound, shg[\"Revenue Loss\"])\n",
    "shg[\"Revenue Loss\"] = np.where(shg[\"Revenue Loss\"] < lower_bound, lower_bound, shg[\"Revenue Loss\"]) "
   ]
  },
  {
   "cell_type": "code",
   "execution_count": 22,
   "metadata": {},
   "outputs": [
    {
     "data": {
      "text/plain": [
       "{'whiskers': [<matplotlib.lines.Line2D at 0x216403130a0>,\n",
       "  <matplotlib.lines.Line2D at 0x21640313400>],\n",
       " 'caps': [<matplotlib.lines.Line2D at 0x21640313760>,\n",
       "  <matplotlib.lines.Line2D at 0x21640313ac0>],\n",
       " 'boxes': [<matplotlib.lines.Line2D at 0x21640775d00>],\n",
       " 'medians': [<matplotlib.lines.Line2D at 0x21640313e20>],\n",
       " 'fliers': [<matplotlib.lines.Line2D at 0x2163fcaa1c0>],\n",
       " 'means': []}"
      ]
     },
     "execution_count": 22,
     "metadata": {},
     "output_type": "execute_result"
    },
    {
     "data": {
      "image/png": "[encoded data removed]",
      "text/plain": [
       "<Figure size 432x288 with 1 Axes>"
      ]
     },
     "metadata": {
      "needs_background": "light"
     },
     "output_type": "display_data"
    }
   ],
   "source": [
    "#confirming if outliers are gone\n",
    "plt.boxplot(shg[\"Revenue Loss\"])"
   ]
  },
  {
   "cell_type": "markdown",
   "metadata": {},
   "source": [
    "####  Checking for Negative or Zero Values"
   ]
  },
  {
   "cell_type": "code",
   "execution_count": 23,
   "metadata": {},
   "outputs": [
    {
     "name": "stdout",
     "output_type": "stream",
     "text": [
      "Invalid 'Guests' entries:\n",
      " Booking ID                                                       15342034\n",
      "Hotel                   ResortResortResortResortResortResortResortReso...\n",
      "Lead Time                                                            7062\n",
      "Nights                                                                814\n",
      "Guests                                                                  0\n",
      "Distribution Channel    CorporateCorporateOnline Travel AgentOnline Tr...\n",
      "Customer Type           Transient-PartyTransientTransient-PartyTransie...\n",
      "Country                 PortugalPortugalSpainPortugalPortugalPortugalP...\n",
      "Deposit Type            No DepositNo DepositNo DepositNo DepositNo Dep...\n",
      "Avg Daily Rate                                                    915.315\n",
      "Status                  Check-OutCheck-OutCheck-OutCheck-OutCheck-OutC...\n",
      "Cancelled (0/1)                                                        25\n",
      "Revenue                                                           9348.18\n",
      "Revenue Loss                                                            0\n",
      "Calc Lead Time                                                       7062\n",
      "dtype: object\n",
      "Invalid 'Nights' entries:\n",
      " Booking ID                                                       38319959\n",
      "Hotel                   ResortResortResortResortResortResortResortReso...\n",
      "Lead Time                                                           20363\n",
      "Nights                                                                  0\n",
      "Guests                                                               1158\n",
      "Distribution Channel    DirectDirectOnline Travel AgentDirectDirectOnl...\n",
      "Customer Type           TransientTransientTransientTransientTransientT...\n",
      "Country                 PortugalPortugalPortugalPortugalPortugalPortug...\n",
      "Deposit Type            No DepositNo DepositNo DepositNo DepositNo Dep...\n",
      "Avg Daily Rate                                                          0\n",
      "Status                  Check-OutCheck-OutCheck-OutCheck-OutCheck-OutC...\n",
      "Cancelled (0/1)                                                        35\n",
      "Revenue                                                                 0\n",
      "Revenue Loss                                                            0\n",
      "Calc Lead Time                                                      20363\n",
      "dtype: object\n",
      "Invalid 'Lead Time' entries:\n",
      " Booking ID                                                      341558574\n",
      "Hotel                   ResortResortResortResortResortResortResortReso...\n",
      "Lead Time                                                               0\n",
      "Nights                                                               9892\n",
      "Guests                                                              10802\n",
      "Distribution Channel    DirectCorporateDirectOnline Travel AgentDirect...\n",
      "Customer Type           TransientTransientTransientTransientTransientT...\n",
      "Country                 PortugalFrancePortugalPortugalPortugalSpainPor...\n",
      "Deposit Type            No DepositNo DepositNo DepositNo DepositNo Dep...\n",
      "Avg Daily Rate                                                     230344\n",
      "Status                  Check-OutCheck-OutCheck-OutCheck-OutCheck-OutC...\n",
      "Cancelled (0/1)                                                       430\n",
      "Revenue                                                            792903\n",
      "Revenue Loss                                                            0\n",
      "Calc Lead Time                                                          0\n",
      "dtype: object\n"
     ]
    }
   ],
   "source": [
    "# Check for non-positive values (<= 0) in each column\n",
    "guests_invalid = shg[shg['Guests'] <= 0].sum()\n",
    "nights_invalid = shg[shg['Nights'] <= 0].sum()\n",
    "lead_time_invalid = shg[shg['Lead Time'] <= 0].sum()\n",
    "\n",
    "# Display any invalid entries\n",
    "print(\"Invalid 'Guests' entries:\\n\", guests_invalid)\n",
    "print(\"Invalid 'Nights' entries:\\n\", nights_invalid)\n",
    "print(\"Invalid 'Lead Time' entries:\\n\", lead_time_invalid)\n"
   ]
  },
  {
   "cell_type": "code",
   "execution_count": 24,
   "metadata": {},
   "outputs": [
    {
     "name": "stdout",
     "output_type": "stream",
     "text": [
      "Count of invalid 'Guests' entries: 0\n",
      "Count of invalid 'Nights' entries: 0\n",
      "Count of invalid 'Lead Time' entries: 0\n"
     ]
    }
   ],
   "source": [
    "# Count of invalid (non-positive) values\n",
    "invalid_guests_count = (shg['Guests'] < 0).sum()\n",
    "invalid_nights_count = (shg['Nights'] < 0).sum()\n",
    "invalid_lead_time_count = (shg['Lead Time'] < 0).sum()\n",
    "\n",
    "print(\"Count of invalid 'Guests' entries:\", invalid_guests_count)\n",
    "print(\"Count of invalid 'Nights' entries:\", invalid_nights_count)\n",
    "print(\"Count of invalid 'Lead Time' entries:\", invalid_lead_time_count)\n"
   ]
  },
  {
   "cell_type": "markdown",
   "metadata": {},
   "source": [
    "#### Categorical Values"
   ]
  },
  {
   "cell_type": "code",
   "execution_count": 25,
   "metadata": {},
   "outputs": [
    {
     "name": "stdout",
     "output_type": "stream",
     "text": [
      "City      79330\n",
      "Resort    40060\n",
      "Name: Hotel, dtype: int64\n"
     ]
    }
   ],
   "source": [
    "#Viewing count for hotel and the categories\n",
    "hotel_count = shg[\"Hotel\"].value_counts()\n",
    "print(hotel_count)"
   ]
  },
  {
   "cell_type": "code",
   "execution_count": 26,
   "metadata": {},
   "outputs": [
    {
     "name": "stdout",
     "output_type": "stream",
     "text": [
      "Online Travel Agent     74072\n",
      "Offline Travel Agent    23991\n",
      "Direct                  14645\n",
      "Corporate                6677\n",
      "Undefined                   5\n",
      "Name: Distribution Channel, dtype: int64\n"
     ]
    }
   ],
   "source": [
    "#Viewing counts for distribution channel\n",
    "distribution_channel_count = shg[\"Distribution Channel\"].value_counts()\n",
    "print(distribution_channel_count)"
   ]
  },
  {
   "cell_type": "code",
   "execution_count": 27,
   "metadata": {},
   "outputs": [
    {
     "name": "stdout",
     "output_type": "stream",
     "text": [
      "Transient          89613\n",
      "Transient-Party    25124\n",
      "Contract            4076\n",
      "Group                577\n",
      "Name: Customer Type, dtype: int64\n"
     ]
    }
   ],
   "source": [
    "#viewing count for Customer type column\n",
    "customer_type = shg[\"Customer Type\"].value_counts()\n",
    "print(customer_type)"
   ]
  },
  {
   "cell_type": "code",
   "execution_count": 28,
   "metadata": {},
   "outputs": [
    {
     "name": "stdout",
     "output_type": "stream",
     "text": [
      "No Deposit        104641\n",
      "Non Refundable     14587\n",
      "Refundable           162\n",
      "Name: Deposit Type, dtype: int64\n"
     ]
    }
   ],
   "source": [
    "#Viewing count for deposit type\n",
    "deposit_type = shg[\"Deposit Type\"].value_counts()\n",
    "print(deposit_type)"
   ]
  },
  {
   "cell_type": "markdown",
   "metadata": {},
   "source": [
    "### Objectives of the Analysis:\n",
    "\n",
    "#### Booking Patterns:\n",
    "- What is the trend in booking patterns over time, and are there specific seasons or\n",
    "months with increased booking activity?\n",
    "- How does lead time vary across different booking channels, and is there a correlation\n",
    "between lead time and customer type?"
   ]
  },
  {
   "cell_type": "code",
   "execution_count": 29,
   "metadata": {},
   "outputs": [
    {
     "data": {
      "text/html": [
       "<div>\n",
       "<style scoped>\n",
       "    .dataframe tbody tr th:only-of-type {\n",
       "        vertical-align: middle;\n",
       "    }\n",
       "\n",
       "    .dataframe tbody tr th {\n",
       "        vertical-align: top;\n",
       "    }\n",
       "\n",
       "    .dataframe thead th {\n",
       "        text-align: right;\n",
       "    }\n",
       "</style>\n",
       "<table border=\"1\" class=\"dataframe\">\n",
       "  <thead>\n",
       "    <tr style=\"text-align: right;\">\n",
       "      <th></th>\n",
       "      <th>Booking Year</th>\n",
       "      <th>Booking Month</th>\n",
       "      <th>Booking Count</th>\n",
       "    </tr>\n",
       "  </thead>\n",
       "  <tbody>\n",
       "    <tr>\n",
       "      <th>0</th>\n",
       "      <td>2013</td>\n",
       "      <td>6</td>\n",
       "      <td>1</td>\n",
       "    </tr>\n",
       "    <tr>\n",
       "      <th>1</th>\n",
       "      <td>2014</td>\n",
       "      <td>3</td>\n",
       "      <td>1</td>\n",
       "    </tr>\n",
       "    <tr>\n",
       "      <th>2</th>\n",
       "      <td>2014</td>\n",
       "      <td>4</td>\n",
       "      <td>4</td>\n",
       "    </tr>\n",
       "    <tr>\n",
       "      <th>3</th>\n",
       "      <td>2014</td>\n",
       "      <td>6</td>\n",
       "      <td>2</td>\n",
       "    </tr>\n",
       "    <tr>\n",
       "      <th>4</th>\n",
       "      <td>2014</td>\n",
       "      <td>7</td>\n",
       "      <td>3</td>\n",
       "    </tr>\n",
       "  </tbody>\n",
       "</table>\n",
       "</div>"
      ],
      "text/plain": [
       "   Booking Year  Booking Month  Booking Count\n",
       "0          2013              6              1\n",
       "1          2014              3              1\n",
       "2          2014              4              4\n",
       "3          2014              6              2\n",
       "4          2014              7              3"
      ]
     },
     "execution_count": 29,
     "metadata": {},
     "output_type": "execute_result"
    }
   ],
   "source": [
    "#extracting month and year from booking date\n",
    "shg[\"Booking Month\"] = shg[\"Booking Date\"].dt.month\n",
    "shg[\"Booking Year\"] = shg[\"Booking Date\"].dt.year\n",
    "\n",
    "#Grouping by month and year to get grouping count\n",
    "monthly_booking = shg.groupby([\"Booking Year\", \"Booking Month\"]).size().reset_index(name = \"Booking Count\")\n",
    "monthly_booking.head()"
   ]
  },
  {
   "cell_type": "code",
   "execution_count": 30,
   "metadata": {},
   "outputs": [
    {
     "data": {
      "image/png": "[encoded data removed]",
      "text/plain": [
       "<Figure size 720x432 with 1 Axes>"
      ]
     },
     "metadata": {
      "needs_background": "light"
     },
     "output_type": "display_data"
    }
   ],
   "source": [
    "#visualizing the monthly_booking \n",
    "plt.figure(figsize=(10, 6))\n",
    "plt.plot(monthly_booking[\"Booking Month\"], monthly_booking[\"Booking Count\"], marker = \"o\")\n",
    "plt.title(\"Monthly Booking Trends\")\n",
    "plt.xlabel(\"Months\")\n",
    "plt.ylabel(\"Number of Bookings\")\n",
    "plt.grid()\n",
    "plt.show()"
   ]
  },
  {
   "cell_type": "markdown",
   "metadata": {},
   "source": [
    "From the graph we can see that:\n",
    "- January has the highest booking count with a decrease in February\n",
    "- There is no consistency and fluctuation of booking occurs throught the year\n",
    "- Theres a steady increase towards the end of the year from October to december\n",
    "- The months with the lowest booking count are be March, April, and possible the middle of the year"
   ]
  },
  {
   "cell_type": "markdown",
   "metadata": {},
   "source": [
    "#### Distribution of Lead Time"
   ]
  },
  {
   "cell_type": "code",
   "execution_count": 31,
   "metadata": {},
   "outputs": [
    {
     "data": {
      "image/png": "[encoded data removed]",
      "text/plain": [
       "<Figure size 720x432 with 1 Axes>"
      ]
     },
     "metadata": {
      "needs_background": "light"
     },
     "output_type": "display_data"
    }
   ],
   "source": [
    "#importing required package\n",
    "import seaborn as sns\n",
    "\n",
    "#plotting distribution of lead time across all booking\n",
    "plt.figure(figsize=(10, 6))\n",
    "sns.histplot(shg[\"Lead Time\"], bins =30, kde=True)\n",
    "plt.title(\"Distribution of Lead Times\")\n",
    "plt.xlabel(\"Lead Time (days)\")\n",
    "plt.ylabel(\"Frequency\")\n",
    "plt.show()"
   ]
  },
  {
   "cell_type": "markdown",
   "metadata": {},
   "source": [
    "###  Lead Time by Booking Channel\n"
   ]
  },
  {
   "cell_type": "code",
   "execution_count": 32,
   "metadata": {},
   "outputs": [
    {
     "data": {
      "image/png": "[encoded data removed]",
      "text/plain": [
       "<Figure size 720x432 with 1 Axes>"
      ]
     },
     "metadata": {
      "needs_background": "light"
     },
     "output_type": "display_data"
    }
   ],
   "source": [
    "#calculating the mean booking time for each booking channel\n",
    "channel_lead_time = shg.groupby(\"Distribution Channel\")[\"Lead Time\"].mean()\n",
    "\n",
    "#ploting a bar graph\n",
    "plt.figure(figsize=(10,6))\n",
    "channel_lead_time.plot(kind= \"bar\")\n",
    "plt.title(\"Average Lead Time by Distribution Channel\")\n",
    "plt.xlabel(\"Distribution Channel\")\n",
    "plt.ylabel(\"Average Lead Time (days)\")\n",
    "plt.show()"
   ]
  },
  {
   "cell_type": "markdown",
   "metadata": {},
   "source": [
    "### Lead Time by Customer Type"
   ]
  },
  {
   "cell_type": "code",
   "execution_count": 33,
   "metadata": {},
   "outputs": [
    {
     "data": {
      "image/png": "[encoded data removed]",
      "text/plain": [
       "<Figure size 720x432 with 1 Axes>"
      ]
     },
     "metadata": {
      "needs_background": "light"
     },
     "output_type": "display_data"
    }
   ],
   "source": [
    "#calculating the mean booking time for each customer type\n",
    "customer_lead_mean = shg.groupby(\"Customer Type\")[\"Lead Time\"].mean().sort_values()\n",
    "\n",
    "#ploting a bar plot\n",
    "plt.figure(figsize=(10,6))\n",
    "customer_lead_mean.plot(kind=\"bar\", color = \"teal\")\n",
    "plt.title(\"Average Lead Time by Customer Type\")\n",
    "plt.xlabel(\"Customer Type\")\n",
    "plt.ylabel(\"Average Lead Time (days)\")\n",
    "plt.show()"
   ]
  },
  {
   "cell_type": "markdown",
   "metadata": {},
   "source": [
    "### Correlation between Lead Time and Customer type"
   ]
  },
  {
   "cell_type": "code",
   "execution_count": 34,
   "metadata": {},
   "outputs": [
    {
     "name": "stdout",
     "output_type": "stream",
     "text": [
      "Correlation between Lead Time and Customer Type: 0.0734027444847653\n"
     ]
    }
   ],
   "source": [
    "from sklearn.preprocessing import LabelEncoder\n",
    "\n",
    "# Encode 'Customer Type' as numerical values\n",
    "label_encoder = LabelEncoder()\n",
    "shg['Customer Type Encoded'] = label_encoder.fit_transform(shg['Customer Type'])\n",
    "\n",
    "# Calculate the correlation between 'Lead Time' and 'Customer Type Encoded'\n",
    "correlation = shg[['Lead Time', 'Customer Type Encoded']].corr().iloc[0, 1]\n",
    "print(\"Correlation between Lead Time and Customer Type:\", correlation)\n"
   ]
  },
  {
   "cell_type": "markdown",
   "metadata": {},
   "source": [
    "- The correlation is weak \n",
    "- This indicates that lead time doesn't vary much in relation to customer type"
   ]
  },
  {
   "cell_type": "markdown",
   "metadata": {},
   "source": [
    "#### Customer Behavior Analysis:\n",
    "- Which distribution channels contribute the most to bookings, and how does the average\n",
    "daily rate (ADR) differ across these channels?\n",
    "- Can we identify any patterns in the distribution of guests based on their country of origin,\n",
    "and how does this impact revenue?"
   ]
  },
  {
   "cell_type": "code",
   "execution_count": 37,
   "metadata": {},
   "outputs": [
    {
     "name": "stdout",
     "output_type": "stream",
     "text": [
      "Number of Bookings by Distribution Channel:\n",
      "Online Travel Agent     74072\n",
      "Offline Travel Agent    23991\n",
      "Direct                  14645\n",
      "Corporate                6677\n",
      "Undefined                   5\n",
      "Name: Distribution Channel, dtype: int64\n",
      "\n",
      "Average Daily Rate (ADR) by Distribution Channel:\n",
      "Distribution Channel\n",
      "Corporate               38.495389\n",
      "Direct                  38.225008\n",
      "Offline Travel Agent    39.767940\n",
      "Online Travel Agent     40.400636\n",
      "Undefined               24.774000\n",
      "Name: Avg Daily Rate, dtype: float64\n"
     ]
    }
   ],
   "source": [
    "#count of booking by distribution channels \n",
    "channel_booking = shg[\"Distribution Channel\"].value_counts()\n",
    "\n",
    "#the ADR for each distribution channel\n",
    "channel_adr = shg.groupby(\"Distribution Channel\")[\"Avg Daily Rate\"].mean()\n",
    "\n",
    "print(\"Number of Bookings by Distribution Channel:\")\n",
    "print(channel_booking)\n",
    "\n",
    "print(\"\\nAverage Daily Rate (ADR) by Distribution Channel:\")\n",
    "print(channel_adr)"
   ]
  },
  {
   "cell_type": "markdown",
   "metadata": {},
   "source": [
    "##### Country Analysis"
   ]
  },
  {
   "cell_type": "code",
   "execution_count": 42,
   "metadata": {},
   "outputs": [
    {
     "name": "stdout",
     "output_type": "stream",
     "text": [
      "Number of booking distribution by country:\n",
      "Portugal          49078\n",
      "United Kingdom    12129\n",
      "France            10415\n",
      "Spain              8568\n",
      "Germany            7287\n",
      "Name: Country, dtype: int64\n",
      "\n",
      "Total revenue by country:\n",
      "Country\n",
      "Portugal          8.451071e+06\n",
      "United Kingdom    3.839125e+06\n",
      "France            2.936324e+06\n",
      "Spain             2.076319e+06\n",
      "Germany           1.994160e+06\n",
      "Name: Revenue, dtype: float64\n"
     ]
    }
   ],
   "source": [
    "#count of booking by country\n",
    "country_booking = shg[\"Country\"].value_counts().sort_values(ascending=False)\n",
    "\n",
    "#Total revenue by country\n",
    "country_revenue = shg.groupby(\"Country\")[\"Revenue\"].sum().sort_values(ascending=False)\n",
    "\n",
    "print(\"Number of booking distribution by country:\")\n",
    "print(country_booking.head())\n",
    "\n",
    "print(\"\\nTotal revenue by country:\")\n",
    "print(country_revenue.head())\n"
   ]
  },
  {
   "cell_type": "markdown",
   "metadata": {},
   "source": [
    "### Cancellation Analysis:\n",
    "- What factors are most strongly correlated with cancellations, and can we predict\n",
    "potential cancellations based on certain variables?\n",
    "- How does the revenue loss from cancellations compare across different customer\n",
    "segments and distribution channels?"
   ]
  },
  {
   "cell_type": "markdown",
   "metadata": {},
   "source": [
    "#### Correlation Analysis"
   ]
  },
  {
   "cell_type": "code",
   "execution_count": 46,
   "metadata": {},
   "outputs": [
    {
     "name": "stdout",
     "output_type": "stream",
     "text": [
      "Correlation of various factors with cancelation:\n",
      "Cancelled (0/1)          1.000000\n",
      "Calc Lead Time           0.293123\n",
      "Lead Time                0.293123\n",
      "Avg Daily Rate           0.077192\n",
      "Booking Month            0.050502\n",
      "Guests                   0.046522\n",
      "Nights                   0.017779\n",
      "Customer Type Encoded   -0.068140\n",
      "Booking Year            -0.114481\n",
      "Booking ID              -0.242238\n",
      "Revenue                 -0.489526\n",
      "Revenue Loss                  NaN\n",
      "Name: Cancelled (0/1), dtype: float64\n"
     ]
    }
   ],
   "source": [
    "#correlation analysis with cancellation status\n",
    "cancellation_corr = shg.corr()[\"Cancelled (0/1)\"].sort_values(ascending=False)\n",
    "\n",
    "print(\"Correlation of various factors with cancelation:\")\n",
    "print(cancellation_corr)"
   ]
  },
  {
   "cell_type": "markdown",
   "metadata": {},
   "source": [
    "### Predicting Potential Cancellations with Logistic Regression "
   ]
  },
  {
   "cell_type": "code",
   "execution_count": 50,
   "metadata": {},
   "outputs": [
    {
     "name": "stdout",
     "output_type": "stream",
     "text": [
      "Model Accuracy: 0.6578998799452774\n",
      "\n",
      "Classification Report:\n",
      "              precision    recall  f1-score   support\n",
      "\n",
      "       False       0.67      0.88      0.76     22478\n",
      "        True       0.58      0.28      0.38     13339\n",
      "\n",
      "    accuracy                           0.66     35817\n",
      "   macro avg       0.63      0.58      0.57     35817\n",
      "weighted avg       0.64      0.66      0.62     35817\n",
      "\n"
     ]
    }
   ],
   "source": [
    "from sklearn.model_selection import train_test_split\n",
    "from sklearn.linear_model import LogisticRegression\n",
    "from sklearn.metrics import classification_report, accuracy_score\n",
    "\n",
    "# Selected relevant features for prediction\n",
    "features = [\"Lead Time\", \"Avg Daily Rate\", \"Guests\"] \n",
    "X = shg[features]\n",
    "y = shg[\"Cancelled (0/1)\"]\n",
    "\n",
    "# Spliting data into training and testing sets\n",
    "X_train, X_test, y_train, y_test = train_test_split(X, y, test_size=0.3, random_state=42)\n",
    "\n",
    "# Train logistic regression model\n",
    "model = LogisticRegression(max_iter=1000)\n",
    "model.fit(X_train, y_train)\n",
    "\n",
    "# Predict cancellations\n",
    "y_pred = model.predict(X_test)\n",
    "\n",
    "# Print model performance\n",
    "print(\"Model Accuracy:\", accuracy_score(y_test, y_pred))\n",
    "print(\"\\nClassification Report:\")\n",
    "print(classification_report(y_test, y_pred))\n"
   ]
  },
  {
   "cell_type": "markdown",
   "metadata": {},
   "source": [
    "For bookings that are not canceled (False class):\n",
    "- The model has an accuracy of 65.8%, which means it correctly predicts whether a booking is canceled or not about 66% of the time.\n",
    "- Precision: 0.67 - Of all predictions where the model said there was no cancellation, 67% were correct.\n",
    "- Recall: 0.88 - The model correctly identified 88% of actual non-cancellations.\n",
    "- F1-score: 0.76 - Balancing precision and recall, this is fairly strong\n",
    "\n",
    "For canceled bookings (True class):\n",
    "- Precision: 0.58 - Of all predictions where the model said there was cancellation, 58% were correct.\n",
    "- Recall: 0.28 - The model correctly identified 28% of the actual canceletion, \n",
    "  suggesting a high number of false negatives.\n",
    "- F1-score: 0.38 - This lower score reflects challenges in accurately identifying cancellations.\n",
    "\n",
    "Weighted Average:\n",
    "- F1-score: 0.62 - The weighted F1 score indicates the model has room for improvement, especially in predicting          \n",
    "  cancellations."
   ]
  },
  {
   "cell_type": "markdown",
   "metadata": {},
   "source": []
  }
 ],
 "metadata": {
  "kernelspec": {
   "display_name": "Python (learn-env)",
   "language": "python",
   "name": "learn-env"
  },
  "language_info": {
   "codemirror_mode": {
    "name": "ipython",
    "version": 3
   },
   "file_extension": ".py",
   "mimetype": "text/x-python",
   "name": "python",
   "nbconvert_exporter": "python",
   "pygments_lexer": "ipython3",
   "version": "3.8.6"
  }
 },
 "nbformat": 4,
 "nbformat_minor": 2
}
